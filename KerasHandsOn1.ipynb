{
  "nbformat": 4,
  "nbformat_minor": 0,
  "metadata": {
    "colab": {
      "provenance": []
    },
    "kernelspec": {
      "name": "python3",
      "display_name": "Python 3"
    },
    "language_info": {
      "name": "python"
    }
  },
  "cells": [
    {
      "cell_type": "code",
      "execution_count": 47,
      "metadata": {
        "id": "7IR34qVvXA5y"
      },
      "outputs": [],
      "source": [
        "import numpy as np\n",
        "from random import randint\n",
        "from sklearn.utils import shuffle\n",
        "from sklearn.preprocessing import MinMaxScaler"
      ]
    },
    {
      "cell_type": "code",
      "source": [
        "train_labels=[]\n",
        "train_samples=[]"
      ],
      "metadata": {
        "id": "QUq01CEdZCRj"
      },
      "execution_count": 48,
      "outputs": []
    },
    {
      "cell_type": "code",
      "source": [
        "for i in range(50):\n",
        "  random_younger=randint(13,64)\n",
        "  train_samples.append(random_younger)\n",
        "  train_labels.append(1)\n",
        "\n",
        "  random_older=randint(65,100)\n",
        "  train_samples.append(random_older)\n",
        "  train_labels.append(0)\n",
        "\n",
        "for i in range(1000):\n",
        "  random_younger=randint(13,64)\n",
        "  train_samples.append(random_younger)\n",
        "  train_labels.append(0)\n",
        "\n",
        "  random_older=randint(65,100)\n",
        "  train_samples.append(random_older)\n",
        "  train_labels.append(1)"
      ],
      "metadata": {
        "id": "v754BAf_ZHbs"
      },
      "execution_count": 49,
      "outputs": []
    },
    {
      "cell_type": "code",
      "source": [
        " train_labels=np.array(train_labels)\n",
        " train_samples=np.array(train_samples)\n",
        " train_labels,train_samples=shuffle(train_labels,train_samples)"
      ],
      "metadata": {
        "id": "csvYqmuXZ_hL"
      },
      "execution_count": 50,
      "outputs": []
    },
    {
      "cell_type": "code",
      "source": [
        "scaler=MinMaxScaler(feature_range=(0,1))\n",
        "scaled_train_samples=scaler.fit_transform(train_samples.reshape(-1,1))"
      ],
      "metadata": {
        "id": "f-qLccgabBiF"
      },
      "execution_count": 51,
      "outputs": []
    },
    {
      "cell_type": "code",
      "source": [
        "predictions=model.predict(x=scaled_train_samples,batch_size=10,verbose=0)"
      ],
      "metadata": {
        "id": "al71mANZnPN5"
      },
      "execution_count": 62,
      "outputs": []
    },
    {
      "cell_type": "code",
      "source": [
        "rounded_predictions=np.argmax(predictions,axis=-1)"
      ],
      "metadata": {
        "id": "NpS8LOKInjlm"
      },
      "execution_count": 63,
      "outputs": []
    },
    {
      "cell_type": "code",
      "source": [
        "test_labels=[]\n",
        "test_samples=[]"
      ],
      "metadata": {
        "id": "glO9OIFzydyu"
      },
      "execution_count": 53,
      "outputs": []
    },
    {
      "cell_type": "code",
      "source": [
        "for i in range(10):\n",
        "  random_younger=randint(13,64)\n",
        "  test_samples.append(random_younger)\n",
        "  test_labels.append(1)\n",
        "\n",
        "  random_older=randint(65,100)\n",
        "  test_samples.append(random_older)\n",
        "  test_labels.append(0)\n",
        "\n",
        "for i in range(200):\n",
        "  random_younger=randint(13,64)\n",
        "  test_samples.append(random_younger)\n",
        "  test_labels.append(0)\n",
        "\n",
        "  random_older=randint(65,100)\n",
        "  test_samples.append(random_older)\n",
        "  test_labels.append(1)"
      ],
      "metadata": {
        "id": "H3mF5FZ-yd0f"
      },
      "execution_count": 54,
      "outputs": []
    },
    {
      "cell_type": "code",
      "source": [
        " test_labels=np.array(test_labels)\n",
        " test_samples=np.array(test_samples)\n",
        " test_labels,test_samples=shuffle(test_labels,test_samples)"
      ],
      "metadata": {
        "id": "GvrhasLXzCxM"
      },
      "execution_count": 55,
      "outputs": []
    },
    {
      "cell_type": "code",
      "source": [
        "scaled_test_samples=scaler.fit_transform(test_samples.reshape(-1,1))"
      ],
      "metadata": {
        "id": "0ucSmY6FzRVH"
      },
      "execution_count": 66,
      "outputs": []
    },
    {
      "cell_type": "code",
      "source": [
        "predictions=model.predict(x=scaled_test_samples,batch_size=10,verbose=0)"
      ],
      "metadata": {
        "id": "JRW18r4A027e"
      },
      "execution_count": 67,
      "outputs": []
    },
    {
      "cell_type": "code",
      "source": [
        "rounded_predictions=np.argmax(predictions,axis=-1)"
      ],
      "metadata": {
        "id": "zwHei7_D1Sje"
      },
      "execution_count": 69,
      "outputs": []
    },
    {
      "cell_type": "code",
      "source": [
        "%matplotlib inline\n",
        "from sklearn.metrics import confusion_matrix\n",
        "import itertools\n",
        "import matplotlib.pyplot as plt"
      ],
      "metadata": {
        "id": "8lpe6LaknjqE"
      },
      "execution_count": 64,
      "outputs": []
    },
    {
      "cell_type": "code",
      "source": [
        "cm=confusion_matrix(y_true=test_labels,y_pred=rounded_predictions)"
      ],
      "metadata": {
        "id": "-pied4ekrh5-"
      },
      "execution_count": 70,
      "outputs": []
    },
    {
      "cell_type": "code",
      "source": [
        "def plot_confusion_matrix(cm,classes,\n",
        "                    normalize=False,\n",
        "                    title='Confusion Matrix',\n",
        "                    cmap=plt.cm.Blues):\n",
        "  plt.imshow(cm,interpolation='nearest',cmap=cmap)\n",
        "  plt.title(title)\n",
        "  plt.colorbar()\n",
        "  tick_marks=np.arange(len(classes))\n",
        "  plt.xticks(tick_marks,classes,rotation=45)\n",
        "  plt.yticks(tick_marks,classes)\n",
        "\n",
        "  if normalize:\n",
        "    cm=cm.astype('float')/cm.sum(axis=1)[:,np.newaxis]\n",
        "    print('Normalised Confusion Matrix')\n",
        "  else:\n",
        "    print('Confusion matrix , without normalisation')\n",
        "\n",
        "  print(cm)\n",
        "\n",
        "\n",
        "  thresh = cm.max()/2.\n",
        "  for i,j in itertools.product(range(cm.shape[0]),range(cm.shape[1])):\n",
        "    plt.text(j,i,cm[i,j],\n",
        "             horizontalalignment=\"center\",\n",
        "             color=\"white\" if cm[i,j]> thresh else \"black\")\n",
        "    plt.tight_layout()\n",
        "    plt.ylabel('True label')\n",
        "    plt.xlabel('Predicted label')"
      ],
      "metadata": {
        "id": "c0kxw2v7o_U8"
      },
      "execution_count": 80,
      "outputs": []
    },
    {
      "cell_type": "code",
      "source": [
        "cm_plot_labels=['no_side_effects','had_side_effects']\n",
        "plot_confusion_matrix(cm=cm,classes=cm_plot_labels,title='Confusion Matrix')"
      ],
      "metadata": {
        "colab": {
          "base_uri": "https://localhost:8080/",
          "height": 542
        },
        "id": "PK2eopnRo_9a",
        "outputId": "caced0f1-f172-47b0-ef31-3d3c2b376365"
      },
      "execution_count": 81,
      "outputs": [
        {
          "output_type": "stream",
          "name": "stdout",
          "text": [
            "Confusion matrix , without normalisation\n",
            "[[196  14]\n",
            " [ 10 200]]\n"
          ]
        },
        {
          "output_type": "display_data",
          "data": {
            "text/plain": [
              "<Figure size 640x480 with 2 Axes>"
            ],
            "image/png": "[encoded data removed]"
          },
          "metadata": {}
        }
      ]
    },
    {
      "cell_type": "code",
      "source": [],
      "metadata": {
        "id": "1asfA02jpAMY"
      },
      "execution_count": null,
      "outputs": []
    },
    {
      "cell_type": "code",
      "source": [
        "import tensorflow as tf\n",
        "from tensorflow import keras\n",
        "from tensorflow.keras.models import Sequential\n",
        "from tensorflow.keras.layers import Activation,Dense\n",
        "from tensorflow.keras.optimizers import Adam\n",
        "from tensorflow.keras.metrics import categorical_crossentropy\n"
      ],
      "metadata": {
        "id": "DXVxYtLHbVi8"
      },
      "execution_count": 82,
      "outputs": []
    },
    {
      "cell_type": "code",
      "source": [
        "physical_devices=tf.config.experimental.list_physical_devices('GPU')\n",
        "print(\"Num GPUs Available: \",len(physical_devices))\n",
        "tf.config.experimental.set_memory_growth(physical_devices[0],True)"
      ],
      "metadata": {
        "colab": {
          "base_uri": "https://localhost:8080/",
          "height": 237
        },
        "id": "SO2kSBUfcbUS",
        "outputId": "e97c097f-fc90-43be-e6ba-ecb00d03b89f"
      },
      "execution_count": 83,
      "outputs": [
        {
          "output_type": "stream",
          "name": "stdout",
          "text": [
            "Num GPUs Available:  0\n"
          ]
        },
        {
          "output_type": "error",
          "ename": "IndexError",
          "evalue": "ignored",
          "traceback": [
            "\u001b[0;31m---------------------------------------------------------------------------\u001b[0m",
            "\u001b[0;31mIndexError\u001b[0m                                Traceback (most recent call last)",
            "\u001b[0;32m<ipython-input-83-faec9cf19f6a>\u001b[0m in \u001b[0;36m<cell line: 3>\u001b[0;34m()\u001b[0m\n\u001b[1;32m      1\u001b[0m \u001b[0mphysical_devices\u001b[0m\u001b[0;34m=\u001b[0m\u001b[0mtf\u001b[0m\u001b[0;34m.\u001b[0m\u001b[0mconfig\u001b[0m\u001b[0;34m.\u001b[0m\u001b[0mexperimental\u001b[0m\u001b[0;34m.\u001b[0m\u001b[0mlist_physical_devices\u001b[0m\u001b[0;34m(\u001b[0m\u001b[0;34m'GPU'\u001b[0m\u001b[0;34m)\u001b[0m\u001b[0;34m\u001b[0m\u001b[0;34m\u001b[0m\u001b[0m\n\u001b[1;32m      2\u001b[0m \u001b[0mprint\u001b[0m\u001b[0;34m(\u001b[0m\u001b[0;34m\"Num GPUs Available: \"\u001b[0m\u001b[0;34m,\u001b[0m\u001b[0mlen\u001b[0m\u001b[0;34m(\u001b[0m\u001b[0mphysical_devices\u001b[0m\u001b[0;34m)\u001b[0m\u001b[0;34m)\u001b[0m\u001b[0;34m\u001b[0m\u001b[0;34m\u001b[0m\u001b[0m\n\u001b[0;32m----> 3\u001b[0;31m \u001b[0mtf\u001b[0m\u001b[0;34m.\u001b[0m\u001b[0mconfig\u001b[0m\u001b[0;34m.\u001b[0m\u001b[0mexperimental\u001b[0m\u001b[0;34m.\u001b[0m\u001b[0mset_memory_growth\u001b[0m\u001b[0;34m(\u001b[0m\u001b[0mphysical_devices\u001b[0m\u001b[0;34m[\u001b[0m\u001b[0;36m0\u001b[0m\u001b[0;34m]\u001b[0m\u001b[0;34m,\u001b[0m\u001b[0;32mTrue\u001b[0m\u001b[0;34m)\u001b[0m\u001b[0;34m\u001b[0m\u001b[0;34m\u001b[0m\u001b[0m\n\u001b[0m",
            "\u001b[0;31mIndexError\u001b[0m: list index out of range"
          ]
        }
      ]
    },
    {
      "cell_type": "code",
      "source": [
        "model=Sequential([\n",
        "    Dense(units=16,input_shape=(1,),activation='relu'),\n",
        "    Dense(units=32,activation='relu'),\n",
        "    Dense(units=2,activation='softmax')\n",
        "])"
      ],
      "metadata": {
        "id": "bXqzswsKcbix"
      },
      "execution_count": 84,
      "outputs": []
    },
    {
      "cell_type": "code",
      "source": [
        "model.summary()"
      ],
      "metadata": {
        "colab": {
          "base_uri": "https://localhost:8080/"
        },
        "id": "o2Pz7GqicblF",
        "outputId": "14deb235-939a-4f02-d824-a60529513f76"
      },
      "execution_count": 85,
      "outputs": [
        {
          "output_type": "stream",
          "name": "stdout",
          "text": [
            "Model: \"sequential_1\"\n",
            "_________________________________________________________________\n",
            " Layer (type)                Output Shape              Param #   \n",
            "=================================================================\n",
            " dense_3 (Dense)             (None, 16)                32        \n",
            "                                                                 \n",
            " dense_4 (Dense)             (None, 32)                544       \n",
            "                                                                 \n",
            " dense_5 (Dense)             (None, 2)                 66        \n",
            "                                                                 \n",
            "=================================================================\n",
            "Total params: 642\n",
            "Trainable params: 642\n",
            "Non-trainable params: 0\n",
            "_________________________________________________________________\n"
          ]
        }
      ]
    },
    {
      "cell_type": "code",
      "source": [
        "model.compile(optimizer=Adam(learning_rate=0.0001),loss='sparse_categorical_crossentropy',metrics=['accuracy'])"
      ],
      "metadata": {
        "id": "JKD9NdKReQPW"
      },
      "execution_count": 86,
      "outputs": []
    },
    {
      "cell_type": "code",
      "source": [
        "model.fit(x=scaled_train_samples,y=train_labels,validation_split=0.1,batch_size=10,epochs=30,shuffle=True,verbose=2)"
      ],
      "metadata": {
        "colab": {
          "base_uri": "https://localhost:8080/"
        },
        "id": "qMDP0MI0eQS_",
        "outputId": "48a18de5-d6c5-4062-cacb-1ea3957a5fc4"
      },
      "execution_count": 87,
      "outputs": [
        {
          "output_type": "stream",
          "name": "stdout",
          "text": [
            "Epoch 1/30\n",
            "189/189 - 1s - loss: 0.7048 - accuracy: 0.4413 - val_loss: 0.6873 - val_accuracy: 0.5095 - 815ms/epoch - 4ms/step\n",
            "Epoch 2/30\n",
            "189/189 - 0s - loss: 0.6731 - accuracy: 0.5307 - val_loss: 0.6599 - val_accuracy: 0.5571 - 258ms/epoch - 1ms/step\n",
            "Epoch 3/30\n",
            "189/189 - 0s - loss: 0.6475 - accuracy: 0.6032 - val_loss: 0.6308 - val_accuracy: 0.6333 - 224ms/epoch - 1ms/step\n",
            "Epoch 4/30\n",
            "189/189 - 0s - loss: 0.6138 - accuracy: 0.7095 - val_loss: 0.5970 - val_accuracy: 0.7476 - 217ms/epoch - 1ms/step\n",
            "Epoch 5/30\n",
            "189/189 - 0s - loss: 0.5830 - accuracy: 0.7603 - val_loss: 0.5687 - val_accuracy: 0.7619 - 222ms/epoch - 1ms/step\n",
            "Epoch 6/30\n",
            "189/189 - 0s - loss: 0.5552 - accuracy: 0.7825 - val_loss: 0.5414 - val_accuracy: 0.7905 - 316ms/epoch - 2ms/step\n",
            "Epoch 7/30\n",
            "189/189 - 0s - loss: 0.5276 - accuracy: 0.8148 - val_loss: 0.5144 - val_accuracy: 0.8190 - 288ms/epoch - 2ms/step\n",
            "Epoch 8/30\n",
            "189/189 - 0s - loss: 0.5009 - accuracy: 0.8317 - val_loss: 0.4886 - val_accuracy: 0.8238 - 286ms/epoch - 2ms/step\n",
            "Epoch 9/30\n",
            "189/189 - 0s - loss: 0.4751 - accuracy: 0.8460 - val_loss: 0.4634 - val_accuracy: 0.8524 - 287ms/epoch - 2ms/step\n",
            "Epoch 10/30\n",
            "189/189 - 0s - loss: 0.4506 - accuracy: 0.8571 - val_loss: 0.4399 - val_accuracy: 0.8571 - 280ms/epoch - 1ms/step\n",
            "Epoch 11/30\n",
            "189/189 - 0s - loss: 0.4276 - accuracy: 0.8683 - val_loss: 0.4180 - val_accuracy: 0.8762 - 331ms/epoch - 2ms/step\n",
            "Epoch 12/30\n",
            "189/189 - 0s - loss: 0.4067 - accuracy: 0.8820 - val_loss: 0.3980 - val_accuracy: 0.8762 - 215ms/epoch - 1ms/step\n",
            "Epoch 13/30\n",
            "189/189 - 0s - loss: 0.3879 - accuracy: 0.8862 - val_loss: 0.3803 - val_accuracy: 0.8857 - 223ms/epoch - 1ms/step\n",
            "Epoch 14/30\n",
            "189/189 - 0s - loss: 0.3712 - accuracy: 0.8937 - val_loss: 0.3643 - val_accuracy: 0.9000 - 219ms/epoch - 1ms/step\n",
            "Epoch 15/30\n",
            "189/189 - 0s - loss: 0.3563 - accuracy: 0.9021 - val_loss: 0.3507 - val_accuracy: 0.9000 - 224ms/epoch - 1ms/step\n",
            "Epoch 16/30\n",
            "189/189 - 0s - loss: 0.3435 - accuracy: 0.9048 - val_loss: 0.3389 - val_accuracy: 0.9000 - 224ms/epoch - 1ms/step\n",
            "Epoch 17/30\n",
            "189/189 - 0s - loss: 0.3325 - accuracy: 0.9042 - val_loss: 0.3283 - val_accuracy: 0.9095 - 227ms/epoch - 1ms/step\n",
            "Epoch 18/30\n",
            "189/189 - 0s - loss: 0.3229 - accuracy: 0.9085 - val_loss: 0.3192 - val_accuracy: 0.9095 - 228ms/epoch - 1ms/step\n",
            "Epoch 19/30\n",
            "189/189 - 0s - loss: 0.3147 - accuracy: 0.9132 - val_loss: 0.3114 - val_accuracy: 0.9095 - 233ms/epoch - 1ms/step\n",
            "Epoch 20/30\n",
            "189/189 - 0s - loss: 0.3075 - accuracy: 0.9201 - val_loss: 0.3052 - val_accuracy: 0.9095 - 224ms/epoch - 1ms/step\n",
            "Epoch 21/30\n",
            "189/189 - 0s - loss: 0.3017 - accuracy: 0.9138 - val_loss: 0.2990 - val_accuracy: 0.9238 - 226ms/epoch - 1ms/step\n",
            "Epoch 22/30\n",
            "189/189 - 0s - loss: 0.2966 - accuracy: 0.9175 - val_loss: 0.2942 - val_accuracy: 0.9238 - 233ms/epoch - 1ms/step\n",
            "Epoch 23/30\n",
            "189/189 - 0s - loss: 0.2922 - accuracy: 0.9228 - val_loss: 0.2900 - val_accuracy: 0.9238 - 226ms/epoch - 1ms/step\n",
            "Epoch 24/30\n",
            "189/189 - 0s - loss: 0.2885 - accuracy: 0.9196 - val_loss: 0.2863 - val_accuracy: 0.9238 - 218ms/epoch - 1ms/step\n",
            "Epoch 25/30\n",
            "189/189 - 0s - loss: 0.2852 - accuracy: 0.9233 - val_loss: 0.2834 - val_accuracy: 0.9238 - 229ms/epoch - 1ms/step\n",
            "Epoch 26/30\n",
            "189/189 - 0s - loss: 0.2824 - accuracy: 0.9243 - val_loss: 0.2808 - val_accuracy: 0.9238 - 224ms/epoch - 1ms/step\n",
            "Epoch 27/30\n",
            "189/189 - 0s - loss: 0.2800 - accuracy: 0.9259 - val_loss: 0.2778 - val_accuracy: 0.9238 - 227ms/epoch - 1ms/step\n",
            "Epoch 28/30\n",
            "189/189 - 0s - loss: 0.2777 - accuracy: 0.9228 - val_loss: 0.2756 - val_accuracy: 0.9238 - 231ms/epoch - 1ms/step\n",
            "Epoch 29/30\n",
            "189/189 - 0s - loss: 0.2757 - accuracy: 0.9243 - val_loss: 0.2738 - val_accuracy: 0.9238 - 260ms/epoch - 1ms/step\n",
            "Epoch 30/30\n",
            "189/189 - 0s - loss: 0.2741 - accuracy: 0.9238 - val_loss: 0.2716 - val_accuracy: 0.9381 - 229ms/epoch - 1ms/step\n"
          ]
        },
        {
          "output_type": "execute_result",
          "data": {
            "text/plain": [
              "<keras.callbacks.History at 0x7ca9df2cb670>"
            ]
          },
          "metadata": {},
          "execution_count": 87
        }
      ]
    }
  ]
}